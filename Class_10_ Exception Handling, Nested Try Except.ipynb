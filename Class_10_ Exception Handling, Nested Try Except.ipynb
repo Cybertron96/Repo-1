{
 "cells": [
  {
   "cell_type": "markdown",
   "id": "000d6153",
   "metadata": {},
   "source": [
    "# Exception handling"
   ]
  },
  {
   "cell_type": "code",
   "execution_count": 1,
   "id": "61ec2b07",
   "metadata": {},
   "outputs": [
    {
     "name": "stdout",
     "output_type": "stream",
     "text": [
      "Enter marks :34\n",
      "fail\n"
     ]
    }
   ],
   "source": [
    "marks=int(input('Enter marks :'))\n",
    "if marks>40 : print('pass')\n",
    "else        : print('fail')"
   ]
  },
  {
   "cell_type": "code",
   "execution_count": 2,
   "id": "8ff8d356",
   "metadata": {},
   "outputs": [
    {
     "name": "stdout",
     "output_type": "stream",
     "text": [
      "Enter marks :46\n",
      "pass\n",
      "Thank you\n"
     ]
    }
   ],
   "source": [
    "try:\n",
    "    marks=int(input('Enter marks :'))\n",
    "except:\n",
    "    print('Enter integer value')\n",
    "else:\n",
    "    if marks>40 : print('pass')\n",
    "    else        : print('fail')\n",
    "finally:\n",
    "    print('Thank you')"
   ]
  },
  {
   "cell_type": "code",
   "execution_count": 1,
   "id": "722923b3",
   "metadata": {},
   "outputs": [
    {
     "ename": "IndentationError",
     "evalue": "unexpected indent (1641727095.py, line 2)",
     "output_type": "error",
     "traceback": [
      "\u001b[0;36m  Cell \u001b[0;32mIn[1], line 2\u001b[0;36m\u001b[0m\n\u001b[0;31m    while True:\u001b[0m\n\u001b[0m    ^\u001b[0m\n\u001b[0;31mIndentationError\u001b[0m\u001b[0;31m:\u001b[0m unexpected indent\n"
     ]
    }
   ],
   "source": [
    "import sys    #system Module\n",
    "    while True:\n",
    "    try:\n",
    "        marks = int(input('Enter Marks: '))\n",
    "        if marks == 1:\n",
    "            len(marks)     #Type Error\n",
    "        elif marks == 2:\n",
    "            print(qaz)    #Value Error\n",
    "        elif marks == 3:\n",
    "            import sbdbjf  #Import Error\n",
    "        elif marks == 4:\n",
    "            raise AttributeError   #Attribute Error\n",
    "            \n",
    "    except ImportError:\n",
    "        print(ImportError)\n",
    "    except ValueError:\n",
    "        print(ValueError)\n",
    "    except:\n",
    "        print('SomeError',sys.exc_info())\n",
    "    else:\n",
    "        print(Marks)\n",
    "        \n",
    "        "
   ]
  },
  {
   "cell_type": "code",
   "execution_count": 9,
   "id": "27f180f6",
   "metadata": {},
   "outputs": [
    {
     "name": "stdout",
     "output_type": "stream",
     "text": [
      "Enter marks :hg\n",
      "Enter integer value\n",
      "Thank you\n",
      "outer\n"
     ]
    }
   ],
   "source": [
    "try:\n",
    "    try:\n",
    "        marks=int(input('Enter marks :'))\n",
    "    except:\n",
    "        print('Enter integer value')\n",
    "        prnit('kl)')\n",
    "    else:\n",
    "        if marks>40 : print('pass')\n",
    "        else        : print('fail')\n",
    "    finally:\n",
    "        print('Thank you')\n",
    "except:\n",
    "    print('outer')"
   ]
  },
  {
   "cell_type": "code",
   "execution_count": 8,
   "id": "bc00b94f",
   "metadata": {},
   "outputs": [
    {
     "name": "stdout",
     "output_type": "stream",
     "text": [
      "Enter marks :kj\n",
      "Enter integer value\n",
      "outer\n"
     ]
    }
   ],
   "source": [
    "#Nested try except\n",
    "try:\n",
    "    try:\n",
    "        marks=int(input('Enter marks :'))\n",
    "    except:\n",
    "        print('Enter integer value')\n",
    "        prnit('kl)')\n",
    "    else:\n",
    "        if marks>40 : print('pass')\n",
    "        else        : print('fail')    \n",
    "    print('Thank you')                 #finally excluded here\n",
    "except:\n",
    "    print('outer')\n"
   ]
  },
  {
   "cell_type": "code",
   "execution_count": null,
   "id": "a731dd30",
   "metadata": {},
   "outputs": [],
   "source": []
  }
 ],
 "metadata": {
  "kernelspec": {
   "display_name": "Python 3 (ipykernel)",
   "language": "python",
   "name": "python3"
  },
  "language_info": {
   "codemirror_mode": {
    "name": "ipython",
    "version": 3
   },
   "file_extension": ".py",
   "mimetype": "text/x-python",
   "name": "python",
   "nbconvert_exporter": "python",
   "pygments_lexer": "ipython3",
   "version": "3.10.9"
  }
 },
 "nbformat": 4,
 "nbformat_minor": 5
}
